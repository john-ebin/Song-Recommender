{
 "cells": [
  {
   "cell_type": "code",
   "execution_count": null,
   "id": "5fb09291",
   "metadata": {},
   "outputs": [],
   "source": [
    "import pandas as pd"
   ]
  },
  {
   "cell_type": "code",
   "execution_count": 2,
   "id": "0b0351ce",
   "metadata": {},
   "outputs": [
    {
     "data": {
      "text/html": [
       "<div>\n",
       "<style scoped>\n",
       "    .dataframe tbody tr th:only-of-type {\n",
       "        vertical-align: middle;\n",
       "    }\n",
       "\n",
       "    .dataframe tbody tr th {\n",
       "        vertical-align: top;\n",
       "    }\n",
       "\n",
       "    .dataframe thead th {\n",
       "        text-align: right;\n",
       "    }\n",
       "</style>\n",
       "<table border=\"1\" class=\"dataframe\">\n",
       "  <thead>\n",
       "    <tr style=\"text-align: right;\">\n",
       "      <th></th>\n",
       "      <th>age</th>\n",
       "      <th>gender</th>\n",
       "      <th>genre</th>\n",
       "    </tr>\n",
       "  </thead>\n",
       "  <tbody>\n",
       "    <tr>\n",
       "      <th>0</th>\n",
       "      <td>20</td>\n",
       "      <td>1</td>\n",
       "      <td>HipHop</td>\n",
       "    </tr>\n",
       "    <tr>\n",
       "      <th>1</th>\n",
       "      <td>23</td>\n",
       "      <td>1</td>\n",
       "      <td>HipHop</td>\n",
       "    </tr>\n",
       "    <tr>\n",
       "      <th>2</th>\n",
       "      <td>25</td>\n",
       "      <td>1</td>\n",
       "      <td>HipHop</td>\n",
       "    </tr>\n",
       "    <tr>\n",
       "      <th>3</th>\n",
       "      <td>26</td>\n",
       "      <td>1</td>\n",
       "      <td>Jazz</td>\n",
       "    </tr>\n",
       "    <tr>\n",
       "      <th>4</th>\n",
       "      <td>29</td>\n",
       "      <td>1</td>\n",
       "      <td>Jazz</td>\n",
       "    </tr>\n",
       "  </tbody>\n",
       "</table>\n",
       "</div>"
      ],
      "text/plain": [
       "   age  gender   genre\n",
       "0   20       1  HipHop\n",
       "1   23       1  HipHop\n",
       "2   25       1  HipHop\n",
       "3   26       1    Jazz\n",
       "4   29       1    Jazz"
      ]
     },
     "execution_count": 2,
     "metadata": {},
     "output_type": "execute_result"
    }
   ],
   "source": [
    "MusicData = pd.read_csv(\"Dataset/Book1.csv\")\n",
    "MusicData.head()"
   ]
  },
  {
   "cell_type": "markdown",
   "id": "0716e27d",
   "metadata": {},
   "source": [
    "# Input Data\n",
    "    1.drop - create a new data withou particular values"
   ]
  },
  {
   "cell_type": "code",
   "execution_count": 3,
   "id": "44ca0592",
   "metadata": {},
   "outputs": [
    {
     "data": {
      "text/html": [
       "<div>\n",
       "<style scoped>\n",
       "    .dataframe tbody tr th:only-of-type {\n",
       "        vertical-align: middle;\n",
       "    }\n",
       "\n",
       "    .dataframe tbody tr th {\n",
       "        vertical-align: top;\n",
       "    }\n",
       "\n",
       "    .dataframe thead th {\n",
       "        text-align: right;\n",
       "    }\n",
       "</style>\n",
       "<table border=\"1\" class=\"dataframe\">\n",
       "  <thead>\n",
       "    <tr style=\"text-align: right;\">\n",
       "      <th></th>\n",
       "      <th>age</th>\n",
       "      <th>gender</th>\n",
       "    </tr>\n",
       "  </thead>\n",
       "  <tbody>\n",
       "    <tr>\n",
       "      <th>0</th>\n",
       "      <td>20</td>\n",
       "      <td>1</td>\n",
       "    </tr>\n",
       "    <tr>\n",
       "      <th>1</th>\n",
       "      <td>23</td>\n",
       "      <td>1</td>\n",
       "    </tr>\n",
       "    <tr>\n",
       "      <th>2</th>\n",
       "      <td>25</td>\n",
       "      <td>1</td>\n",
       "    </tr>\n",
       "    <tr>\n",
       "      <th>3</th>\n",
       "      <td>26</td>\n",
       "      <td>1</td>\n",
       "    </tr>\n",
       "    <tr>\n",
       "      <th>4</th>\n",
       "      <td>29</td>\n",
       "      <td>1</td>\n",
       "    </tr>\n",
       "  </tbody>\n",
       "</table>\n",
       "</div>"
      ],
      "text/plain": [
       "   age  gender\n",
       "0   20       1\n",
       "1   23       1\n",
       "2   25       1\n",
       "3   26       1\n",
       "4   29       1"
      ]
     },
     "execution_count": 3,
     "metadata": {},
     "output_type": "execute_result"
    }
   ],
   "source": [
    "InputData = MusicData.drop(columns=[\"genre\"])\n",
    "InputData.head()"
   ]
  },
  {
   "cell_type": "markdown",
   "id": "b3e0a088",
   "metadata": {},
   "source": [
    "# Output data\n",
    "    program will predect the genre"
   ]
  },
  {
   "cell_type": "code",
   "execution_count": 4,
   "id": "750d54d9",
   "metadata": {},
   "outputs": [
    {
     "data": {
      "text/plain": [
       "0    HipHop\n",
       "1    HipHop\n",
       "2    HipHop\n",
       "3      Jazz\n",
       "4      Jazz\n",
       "Name: genre, dtype: object"
      ]
     },
     "execution_count": 4,
     "metadata": {},
     "output_type": "execute_result"
    }
   ],
   "source": [
    "OutputData = MusicData[\"genre\"]\n",
    "OutputData.head()"
   ]
  },
  {
   "cell_type": "markdown",
   "id": "f493bdc4",
   "metadata": {},
   "source": [
    "# Importing algorithm from sklearn"
   ]
  },
  {
   "cell_type": "code",
   "execution_count": 5,
   "id": "6a8ff21c",
   "metadata": {},
   "outputs": [],
   "source": [
    "from sklearn.tree import DecisionTreeClassifier"
   ]
  },
  {
   "cell_type": "markdown",
   "id": "0fed4a15",
   "metadata": {},
   "source": [
    "# Giving Input and Output values\n",
    "    use (.values) if you got valid feature name error"
   ]
  },
  {
   "cell_type": "code",
   "execution_count": 6,
   "id": "22bd8673",
   "metadata": {
    "scrolled": true
   },
   "outputs": [
    {
     "data": {
      "text/html": [
       "<style>#sk-container-id-1 {color: black;}#sk-container-id-1 pre{padding: 0;}#sk-container-id-1 div.sk-toggleable {background-color: white;}#sk-container-id-1 label.sk-toggleable__label {cursor: pointer;display: block;width: 100%;margin-bottom: 0;padding: 0.3em;box-sizing: border-box;text-align: center;}#sk-container-id-1 label.sk-toggleable__label-arrow:before {content: \"▸\";float: left;margin-right: 0.25em;color: #696969;}#sk-container-id-1 label.sk-toggleable__label-arrow:hover:before {color: black;}#sk-container-id-1 div.sk-estimator:hover label.sk-toggleable__label-arrow:before {color: black;}#sk-container-id-1 div.sk-toggleable__content {max-height: 0;max-width: 0;overflow: hidden;text-align: left;background-color: #f0f8ff;}#sk-container-id-1 div.sk-toggleable__content pre {margin: 0.2em;color: black;border-radius: 0.25em;background-color: #f0f8ff;}#sk-container-id-1 input.sk-toggleable__control:checked~div.sk-toggleable__content {max-height: 200px;max-width: 100%;overflow: auto;}#sk-container-id-1 input.sk-toggleable__control:checked~label.sk-toggleable__label-arrow:before {content: \"▾\";}#sk-container-id-1 div.sk-estimator input.sk-toggleable__control:checked~label.sk-toggleable__label {background-color: #d4ebff;}#sk-container-id-1 div.sk-label input.sk-toggleable__control:checked~label.sk-toggleable__label {background-color: #d4ebff;}#sk-container-id-1 input.sk-hidden--visually {border: 0;clip: rect(1px 1px 1px 1px);clip: rect(1px, 1px, 1px, 1px);height: 1px;margin: -1px;overflow: hidden;padding: 0;position: absolute;width: 1px;}#sk-container-id-1 div.sk-estimator {font-family: monospace;background-color: #f0f8ff;border: 1px dotted black;border-radius: 0.25em;box-sizing: border-box;margin-bottom: 0.5em;}#sk-container-id-1 div.sk-estimator:hover {background-color: #d4ebff;}#sk-container-id-1 div.sk-parallel-item::after {content: \"\";width: 100%;border-bottom: 1px solid gray;flex-grow: 1;}#sk-container-id-1 div.sk-label:hover label.sk-toggleable__label {background-color: #d4ebff;}#sk-container-id-1 div.sk-serial::before {content: \"\";position: absolute;border-left: 1px solid gray;box-sizing: border-box;top: 0;bottom: 0;left: 50%;z-index: 0;}#sk-container-id-1 div.sk-serial {display: flex;flex-direction: column;align-items: center;background-color: white;padding-right: 0.2em;padding-left: 0.2em;position: relative;}#sk-container-id-1 div.sk-item {position: relative;z-index: 1;}#sk-container-id-1 div.sk-parallel {display: flex;align-items: stretch;justify-content: center;background-color: white;position: relative;}#sk-container-id-1 div.sk-item::before, #sk-container-id-1 div.sk-parallel-item::before {content: \"\";position: absolute;border-left: 1px solid gray;box-sizing: border-box;top: 0;bottom: 0;left: 50%;z-index: -1;}#sk-container-id-1 div.sk-parallel-item {display: flex;flex-direction: column;z-index: 1;position: relative;background-color: white;}#sk-container-id-1 div.sk-parallel-item:first-child::after {align-self: flex-end;width: 50%;}#sk-container-id-1 div.sk-parallel-item:last-child::after {align-self: flex-start;width: 50%;}#sk-container-id-1 div.sk-parallel-item:only-child::after {width: 0;}#sk-container-id-1 div.sk-dashed-wrapped {border: 1px dashed gray;margin: 0 0.4em 0.5em 0.4em;box-sizing: border-box;padding-bottom: 0.4em;background-color: white;}#sk-container-id-1 div.sk-label label {font-family: monospace;font-weight: bold;display: inline-block;line-height: 1.2em;}#sk-container-id-1 div.sk-label-container {text-align: center;}#sk-container-id-1 div.sk-container {/* jupyter's `normalize.less` sets `[hidden] { display: none; }` but bootstrap.min.css set `[hidden] { display: none !important; }` so we also need the `!important` here to be able to override the default hidden behavior on the sphinx rendered scikit-learn.org. See: https://github.com/scikit-learn/scikit-learn/issues/21755 */display: inline-block !important;position: relative;}#sk-container-id-1 div.sk-text-repr-fallback {display: none;}</style><div id=\"sk-container-id-1\" class=\"sk-top-container\"><div class=\"sk-text-repr-fallback\"><pre>DecisionTreeClassifier()</pre><b>In a Jupyter environment, please rerun this cell to show the HTML representation or trust the notebook. <br />On GitHub, the HTML representation is unable to render, please try loading this page with nbviewer.org.</b></div><div class=\"sk-container\" hidden><div class=\"sk-item\"><div class=\"sk-estimator sk-toggleable\"><input class=\"sk-toggleable__control sk-hidden--visually\" id=\"sk-estimator-id-1\" type=\"checkbox\" checked><label for=\"sk-estimator-id-1\" class=\"sk-toggleable__label sk-toggleable__label-arrow\">DecisionTreeClassifier</label><div class=\"sk-toggleable__content\"><pre>DecisionTreeClassifier()</pre></div></div></div></div></div>"
      ],
      "text/plain": [
       "DecisionTreeClassifier()"
      ]
     },
     "execution_count": 6,
     "metadata": {},
     "output_type": "execute_result"
    }
   ],
   "source": [
    "model = DecisionTreeClassifier()\n",
    "model.fit(InputData.values, OutputData.values)"
   ]
  },
  {
   "cell_type": "markdown",
   "id": "2ffa6161",
   "metadata": {},
   "source": [
    "# Now model will predict the values"
   ]
  },
  {
   "cell_type": "code",
   "execution_count": 7,
   "id": "4b35babc",
   "metadata": {
    "scrolled": true
   },
   "outputs": [],
   "source": [
    "prediction = model.predict([[21, 1], [22, 0]])"
   ]
  },
  {
   "cell_type": "code",
   "execution_count": 8,
   "id": "7567cde7",
   "metadata": {},
   "outputs": [
    {
     "data": {
      "text/plain": [
       "array(['HipHop', 'Dance'], dtype=object)"
      ]
     },
     "execution_count": 8,
     "metadata": {},
     "output_type": "execute_result"
    }
   ],
   "source": [
    "prediction"
   ]
  },
  {
   "cell_type": "markdown",
   "id": "3090cfd0",
   "metadata": {},
   "source": [
    "# Training And Testing\n",
    "    \n",
    "    "
   ]
  },
  {
   "cell_type": "code",
   "execution_count": 9,
   "id": "77046179",
   "metadata": {},
   "outputs": [
    {
     "data": {
      "text/plain": [
       "1.0"
      ]
     },
     "execution_count": 9,
     "metadata": {},
     "output_type": "execute_result"
    }
   ],
   "source": [
    "from sklearn.model_selection import train_test_split   # Split the data to train and test\n",
    "from sklearn.metrics import accuracy_score   # find the accuracy of the model\n",
    "\n",
    "Input_train,Input_test,Output_train,Output_test = train_test_split(InputData,OutputData,test_size=0.2)  #0.2 = 20% for testing \n",
    "\n",
    "model.fit(Input_train.values,Output_train.values)\n",
    "\n",
    "prediction = model.predict(Input_test.values)\n",
    "\n",
    "score = accuracy_score(Output_test.values, prediction)  # 0 - 1 \n",
    "score"
   ]
  },
  {
   "cell_type": "markdown",
   "id": "fe97b005",
   "metadata": {},
   "source": [
    "# Test Size"
   ]
  },
  {
   "cell_type": "markdown",
   "id": "b1d6933f",
   "metadata": {},
   "source": [
    "# 50 %  less accurate than 20%"
   ]
  },
  {
   "cell_type": "code",
   "execution_count": 10,
   "id": "84233f7c",
   "metadata": {},
   "outputs": [
    {
     "data": {
      "text/plain": [
       "0.6666666666666666"
      ]
     },
     "execution_count": 10,
     "metadata": {},
     "output_type": "execute_result"
    }
   ],
   "source": [
    "Input_train,Input_test,Output_train,Output_test = train_test_split(InputData,OutputData,test_size=0.5)  #0.5 = 50% for testing \n",
    "\n",
    "model.fit(Input_train.values,Output_train.values)\n",
    "\n",
    "prediction = model.predict(Input_test.values)\n",
    "\n",
    "score = accuracy_score(Output_test.values, prediction)  # 0 - 1 \n",
    "score  # less accurate"
   ]
  },
  {
   "cell_type": "markdown",
   "id": "5f1032ca",
   "metadata": {},
   "source": [
    "# 80%  less accurate than 50%"
   ]
  },
  {
   "cell_type": "code",
   "execution_count": 11,
   "id": "9a0fab14",
   "metadata": {},
   "outputs": [
    {
     "data": {
      "text/plain": [
       "0.26666666666666666"
      ]
     },
     "execution_count": 11,
     "metadata": {},
     "output_type": "execute_result"
    }
   ],
   "source": [
    "Input_train,Input_test,Output_train,Output_test = train_test_split(InputData,OutputData,test_size=0.8)  #0.8 = 80% for testing \n",
    "\n",
    "model.fit(Input_train.values,Output_train.values)\n",
    "\n",
    "prediction = model.predict(Input_test.values)\n",
    "\n",
    "score = accuracy_score(Output_test.values, prediction)  # 0 - 1 \n",
    "score"
   ]
  },
  {
   "cell_type": "markdown",
   "id": "f5dccec1",
   "metadata": {},
   "source": [
    "# Persisting Model\n",
    "    save the trained model"
   ]
  },
  {
   "cell_type": "code",
   "execution_count": 12,
   "id": "b70ccb44",
   "metadata": {},
   "outputs": [
    {
     "data": {
      "text/plain": [
       "['MusicRecommender.joblid']"
      ]
     },
     "execution_count": 12,
     "metadata": {},
     "output_type": "execute_result"
    }
   ],
   "source": [
    "import joblib\n",
    "\n",
    "Input_train,Input_test,Output_train,Output_test = train_test_split(InputData,OutputData,test_size=0.2)  #0.2 = 20% for testing \n",
    "\n",
    "model.fit(Input_train.values,Output_train.values)\n",
    "\n",
    "prediction = model.predict(Input_test.values)\n",
    "\n",
    "#score = accuracy_score(Output_test.values, prediction)  # 0 - 1 \n",
    "\n",
    "joblib.dump(model, \"MusicRecommender.joblid\")\n"
   ]
  },
  {
   "cell_type": "markdown",
   "id": "fed58cfb",
   "metadata": {},
   "source": [
    "# Load the Dumped model"
   ]
  },
  {
   "cell_type": "code",
   "execution_count": 13,
   "id": "e25729e3",
   "metadata": {},
   "outputs": [
    {
     "data": {
      "text/plain": [
       "array(['Dance'], dtype=object)"
      ]
     },
     "execution_count": 13,
     "metadata": {},
     "output_type": "execute_result"
    }
   ],
   "source": [
    "model = joblib.load(\"MusicRecommender.joblid\")\n",
    "model.predict([[25, 0]])"
   ]
  },
  {
   "cell_type": "code",
   "execution_count": null,
   "id": "c3086a9b",
   "metadata": {},
   "outputs": [],
   "source": []
  }
 ],
 "metadata": {
  "kernelspec": {
   "display_name": "Python 3 (ipykernel)",
   "language": "python",
   "name": "python3"
  },
  "language_info": {
   "codemirror_mode": {
    "name": "ipython",
    "version": 3
   },
   "file_extension": ".py",
   "mimetype": "text/x-python",
   "name": "python",
   "nbconvert_exporter": "python",
   "pygments_lexer": "ipython3",
   "version": "3.11.5"
  }
 },
 "nbformat": 4,
 "nbformat_minor": 5
}
